{
 "cells": [
  {
   "cell_type": "code",
   "execution_count": null,
   "metadata": {},
   "outputs": [],
   "source": [
    "#LeetCode 225. Implement Stack using Queues\n",
    "class MyStack(object):\n",
    "\n",
    "    def __init__(self):\n",
    "        self.q1 = deque()\n",
    "        self.q2 = deque()\n",
    "        \n",
    "    def push(self, x):\n",
    "        self.q2.append(x)\n",
    "\n",
    "        while self.q1:\n",
    "            self.q2.append(self.q1.popleft())\n",
    "\n",
    "        self.q1, self.q2 = self.q2, self.q1\n",
    "\n",
    "    def pop(self):\n",
    "        return self.q1.popleft()\n",
    "\n",
    "    def top(self):\n",
    "        return self.q1[0]\n",
    "\n",
    "    def empty(self):\n",
    "        return not self.q1\n",
    "\n"
   ]
  },
  {
   "cell_type": "code",
   "execution_count": null,
   "metadata": {},
   "outputs": [],
   "source": [
    "#LeetCode 232. Implement Queue using Stacks\n",
    "class MyQueue(object):\n",
    "\n",
    "    def __init__(self):\n",
    "        self.stack_in = []\n",
    "        self.stack_out = []\n",
    "\n",
    "    def push(self, x):\n",
    "        # 새 원소는 입력 스택에 삽입\n",
    "        self.stack_in.append(x)\n",
    "\n",
    "    def pop(self):\n",
    "        # 출력 스택이 비었으면 입력 스택에서 옮김\n",
    "        self.peek()\n",
    "        return self.stack_out.pop()\n",
    "\n",
    "    def peek(self):\n",
    "        # 출력 스택이 비었을 때만 옮기기\n",
    "        if not self.stack_out:\n",
    "            while self.stack_in:\n",
    "                self.stack_out.append(self.stack_in.pop())\n",
    "        return self.stack_out[-1]\n",
    "\n",
    "    def empty(self):\n",
    "        # 둘 다 비었으면 큐도 비었다고 판단\n",
    "        return not self.stack_in and not self.stack_out"
   ]
  },
  {
   "cell_type": "code",
   "execution_count": null,
   "metadata": {},
   "outputs": [],
   "source": [
    "#교재의 큐 연습문제 전부"
   ]
  }
 ],
 "metadata": {
  "language_info": {
   "name": "python"
  }
 },
 "nbformat": 4,
 "nbformat_minor": 2
}
