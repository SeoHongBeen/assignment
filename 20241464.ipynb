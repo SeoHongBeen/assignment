{
 "cells": [
  {
   "cell_type": "markdown",
   "id": "b0c0cd5f",
   "metadata": {},
   "source": [
    "# 1.LeetCode 225. Implement Stack using Queues"
   ]
  },
  {
   "cell_type": "code",
   "execution_count": null,
   "id": "76e85d45",
   "metadata": {},
   "outputs": [],
   "source": [
    "class MyStack(object):\n",
    "\n",
    "    def __init__(self):\n",
    "        self.q1 = deque()\n",
    "        self.q2 = deque()\n",
    "        \n",
    "    def push(self, x):\n",
    "        self.q2.append(x)\n",
    "\n",
    "        while self.q1:\n",
    "            self.q2.append(self.q1.popleft())\n",
    "\n",
    "        self.q1, self.q2 = self.q2, self.q1\n",
    "\n",
    "    def pop(self):\n",
    "        return self.q1.popleft()\n",
    "\n",
    "    def top(self):\n",
    "        return self.q1[0]\n",
    "\n",
    "    def empty(self):\n",
    "        return not self.q1\n",
    "\n"
   ]
  },
  {
   "cell_type": "markdown",
   "id": "81277418",
   "metadata": {},
   "source": [
    "# 2.LeetCode 232. Implement Queue using Stacks"
   ]
  },
  {
   "cell_type": "code",
   "execution_count": 2,
   "id": "aa13c628",
   "metadata": {},
   "outputs": [],
   "source": [
    "class MyQueue:\n",
    "\n",
    "    def __init__(self):\n",
    "        self.stack_in = []\n",
    "        self.stack_out = []\n",
    "\n",
    "    def push(self, x):\n",
    "        self.stack_in.append(x)\n",
    "\n",
    "    def pop(self):\n",
    "        self.peek()\n",
    "        return self.stack_out.pop()\n",
    "\n",
    "    def peek(self):\n",
    "        if not self.stack_out:\n",
    "            while self.stack_in:\n",
    "                self.stack_out.append(self.stack_in.pop())\n",
    "        return self.stack_out[-1]\n",
    "\n",
    "    def empty(self):\n",
    "        return not self.stack_in and not self.stack_out\n"
   ]
  },
  {
   "cell_type": "markdown",
   "id": "caef5ad8",
   "metadata": {},
   "source": [
    "# 3.교재의 큐 연습문제 전부\n"
   ]
  },
  {
   "cell_type": "code",
   "execution_count": null,
   "id": "cc752cc1",
   "metadata": {},
   "outputs": [],
   "source": [
    "class ListQueue:\n",
    "    def __init__(self):\n",
    "        self.__queue = []\n",
    "\n",
    "    def enqueue(self, x):\n",
    "        self.__queue.insert(0, x)  \n",
    "\n",
    "    def dequeue(self):\n",
    "        return self.__queue.pop() \n",
    "\n",
    "    def front(self):\n",
    "        return self.__queue[-1]  \n",
    "\n",
    "    def isEmpty(self) -> bool:\n",
    "        return len(self.__queue) == 0\n",
    "\n",
    "    def dequeueAll(self):\n",
    "        self.__queue.clear()\n",
    "\n"
   ]
  },
  {
   "cell_type": "code",
   "execution_count": null,
   "id": "e16fa3fa",
   "metadata": {},
   "outputs": [
    {
     "name": "stdout",
     "output_type": "stream",
     "text": [
      "True\n",
      "False\n"
     ]
    }
   ],
   "source": [
    "from collections import deque\n",
    "\n",
    "def is_palindrome(s):\n",
    "    q = deque(s)\n",
    "    while len(q) > 1:\n",
    "        if q.popleft() != q.pop():\n",
    "            return False\n",
    "    return True\n",
    "\n"
   ]
  },
  {
   "cell_type": "code",
   "execution_count": null,
   "id": "d9d6851c",
   "metadata": {},
   "outputs": [],
   "source": [
    "from collections import deque\n",
    "\n",
    "def copy_queue(a):\n",
    "    b = deque()\n",
    "    for item in a:\n",
    "        b.append(item)\n",
    "    return b"
   ]
  },
  {
   "cell_type": "code",
   "execution_count": null,
   "id": "e700630c",
   "metadata": {},
   "outputs": [],
   "source": [
    "from collections import deque\n",
    "\n",
    "class StackUsingQueues:\n",
    "    def __init__(self):\n",
    "        self.q1 = deque()\n",
    "        self.q2 = deque()\n",
    "\n",
    "    def push(self, x):\n",
    "        self.q1.append(x)\n",
    "\n",
    "    def pop(self):\n",
    "        while len(self.q1) > 1:\n",
    "            self.q2.append(self.q1.popleft())\n",
    "        res = self.q1.popleft()\n",
    "        self.q1, self.q2 = self.q2, self.q1\n",
    "        return res\n"
   ]
  },
  {
   "cell_type": "code",
   "execution_count": null,
   "id": "30f2ed1b",
   "metadata": {},
   "outputs": [],
   "source": [
    "class QueueUsingStacks:\n",
    "    def __init__(self):\n",
    "        self.s1 = []\n",
    "        self.s2 = []\n",
    "\n",
    "    def enqueue(self, x):\n",
    "        while self.s1:\n",
    "            self.s2.append(self.s1.pop())\n",
    "        self.s1.append(x)\n",
    "        while self.s2:\n",
    "            self.s1.append(self.s2.pop())\n",
    "\n",
    "    def dequeue(self):\n",
    "        return self.s1.pop()\n"
   ]
  },
  {
   "cell_type": "markdown",
   "id": "4b9f6560",
   "metadata": {},
   "source": [
    "\n",
    "- 리스트 기반 `.pop(0)` 사용 시 `dequeue()`는 O(n)\n",
    "- `deque` 또는 스택 2개 사용 시 평균 O(1)"
   ]
  },
  {
   "cell_type": "markdown",
   "id": "39f41379",
   "metadata": {},
   "source": [
    "\n",
    "- 연결 리스트 사용 시 `enqueue()` / `dequeue()` 모두 O(1)\n",
    "- Python 리스트보다 효율적"
   ]
  },
  {
   "cell_type": "code",
   "execution_count": null,
   "id": "e897f205",
   "metadata": {},
   "outputs": [],
   "source": [
    "from collections import deque\n",
    "\n",
    "class DequeQueue:\n",
    "    def __init__(self):\n",
    "        self.__queue = deque()\n",
    "\n",
    "    def enqueue(self, x):\n",
    "        self.__queue.append(x)\n",
    "\n",
    "    def dequeue(self):\n",
    "        if self.isEmpty():\n",
    "            return None\n",
    "        return self.__queue.popleft()\n",
    "\n",
    "    def front(self):\n",
    "        if self.isEmpty():\n",
    "            return None\n",
    "        return self.__queue[0]\n",
    "\n",
    "    def isEmpty(self):\n",
    "        return len(self.__queue) == 0\n",
    "\n",
    "    def dequeueAll(self):\n",
    "        self.__queue.clear()\n",
    "\n",
    "    def printQueue(self):\n",
    "        print(\"Queue from front:\", end=' ')\n",
    "        for item in self.__queue:\n",
    "            print(item, end=' ')\n",
    "        print()\n"
   ]
  }
 ],
 "metadata": {
  "kernelspec": {
   "display_name": "Python 3",
   "language": "python",
   "name": "python3"
  },
  "language_info": {
   "codemirror_mode": {
    "name": "ipython",
    "version": 3
   },
   "file_extension": ".py",
   "mimetype": "text/x-python",
   "name": "python",
   "nbconvert_exporter": "python",
   "pygments_lexer": "ipython3",
   "version": "3.13.2"
  }
 },
 "nbformat": 4,
 "nbformat_minor": 5
}
